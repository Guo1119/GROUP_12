{
 "cells": [
  {
   "cell_type": "markdown",
   "metadata": {},
   "source": [
    "## 0. Current Process on Building Class \"analyzer\""
   ]
  },
  {
   "cell_type": "markdown",
   "metadata": {},
   "source": [
    "This shows the current work process on building new class \"analyzer\", by now the initialization part and first two features are done. **a copy of code below is stored into analyzer.py to test how it runs on terminal**"
   ]
  },
  {
   "cell_type": "code",
   "execution_count": 20,
   "metadata": {},
   "outputs": [],
   "source": [
    "import os\n",
    "import pandas as pd \n",
    "import numpy as np\n",
    "import seaborn as sns\n",
    "import ast\n",
    "import matplotlib.pyplot as plt\n",
    "import datafetchtools #I tried to put two functions dedicated for downloading and unzipping the data into a .py file\n",
    "\n",
    "class analyzer:\n",
    "    def __init__(self):\n",
    "        # Indicate paths and creates lists for column names\n",
    "        self.gzipPath=\"..\\\\downloads\\\\MovieSummaries.tar.gz\"\n",
    "        self.movieMetaDataPath=\"..\\\\data\\\\MovieSummaries\\\\movie.metadata.tsv\"\n",
    "        self.movieMetaDataColumns=['wikiID', 'fbID', 'movieName', 'releaseDate', 'boxRevenue', 'runtime', 'language', 'country', 'genre']\n",
    "        self.characterMetaDataPath=\"..\\\\data\\\\MovieSummaries\\\\character.metadata.tsv\"\n",
    "        self.characterMetaDataColumns=['wikiID', 'fbID', 'releaseDate', 'characterName', 'actorBirthday', 'actorGender', 'actorHeight', \n",
    "                                       'actorEthnicityID','actorName', 'ageAtRelease', 'fbMapID', 'fbCharacterID','fbActorID']\n",
    "        \n",
    "        try:\n",
    "            # try to load datasets\n",
    "            print(\"Connceting to the datasets ...\")\n",
    "            self.movieData=pd.read_csv(self.movieMetaDataPath, sep=\"\\t\", names=self.movieMetaDataColumns, on_bad_lines='skip')\n",
    "            self.characterData=pd.read_csv(self.characterMetaDataPath, sep=\"\\t\", names=self.characterMetaDataColumns, on_bad_lines='skip')  \n",
    "\n",
    "        except:\n",
    "            # if the datasets don't exist in the local directory\n",
    "            datafetchtools.downloadData(\"https://www.cs.cmu.edu/~ark/personas/data/MovieSummaries.tar.gz\", self.gzipPath)\n",
    "            datafetchtools.extractData(\"..\\\\downloads\\\\MovieSummaries.tar.gz\", \"..\\\\data\")\n",
    "\n",
    "        finally:\n",
    "            # load again\n",
    "            self.movieData=pd.read_csv(self.movieMetaDataPath, sep=\"\\t\", names=self.movieMetaDataColumns, on_bad_lines='skip')\n",
    "            self.characterData=pd.read_csv(self.characterMetaDataPath, sep=\"\\t\", names=self.characterMetaDataColumns, on_bad_lines='skip')\n",
    "            print(\"Successfully connected to the datasets\")\n",
    "\n",
    "    def movie_type(self, N=10):\n",
    "        # Take the column \"genres\" out and form lists using the values of dictionary \n",
    "        genres=self.movieData.genre.apply(lambda x: list(ast.literal_eval(x).values()))\n",
    "        # A native feature of pandas that breaks down columns made of list into new entries\n",
    "        genresExploded=genres.explode(ignore_index=True)\n",
    "        return genresExploded.value_counts()[1:N]\n",
    "    \n",
    "    def actor_count(self):\n",
    "        # 1. Use value_counts() to count how many times a wikiID occurs in the Character dataset\n",
    "        # 2. Create a new dataframe using .join(), having columns: wikiID, movieName, actorCounts\n",
    "        countData=self.movieData[[\"wikiID\", \"movieName\"]].join(self.characterData['wikiID'].value_counts().astype(\"Int64\"), on=\"wikiID\")\n",
    "        countData.rename(columns={\"count\": \"actorCounts\"}, inplace=True)\n",
    "        # Make sure can be executed in terminal and return a figue\n",
    "        plt.figure(figsize=(12, 6))\n",
    "        sns.histplot(data=countData,x=\"actorCounts\",bins=40)\n",
    "        plt.show()\n",
    "    \n",
    "    def actor_distributions(self, max_height, min_height, gender=\"All\", plot=False):\n",
    "        actorData=self.characterData[[\"actorName\", \"actorGender\", \"actorHeight\"]].drop_duplicates()\n",
    "        if gender == \"All\":\n",
    "            actorDataConstraint=actorData\n",
    "        else:\n",
    "            actorDataConstraint=actorData[actorData.actorGender == gender]\n",
    " \n",
    "        if plot == True:\n",
    "            actorDataConstraint=actorDataConstraint[(actorDataConstraint.actorHeight > min_height) \n",
    "                                                    & (actorDataConstraint.actorHeight < max_height)]\n",
    "            sns.histplot(actorDataConstraint, x=\"actorHeight\")\n",
    "        else:\n",
    "            actorDataConstraint=actorDataConstraint[(actorDataConstraint.actorHeight > min_height) \n",
    "                                                    & (actorDataConstraint.actorHeight < max_height)]\n",
    "            return actorDataConstraint\n",
    "\n"
   ]
  },
  {
   "cell_type": "code",
   "execution_count": 21,
   "metadata": {},
   "outputs": [
    {
     "name": "stdout",
     "output_type": "stream",
     "text": [
      "Connceting to the datasets ...\n",
      "Successfully connected to the datasets\n"
     ]
    },
    {
     "data": {
      "image/png": "[encoded data removed]",
      "text/plain": [
       "<Figure size 640x480 with 1 Axes>"
      ]
     },
     "metadata": {},
     "output_type": "display_data"
    }
   ],
   "source": [
    "analyzer().actor_distributions(max_height=2.0, min_height=1.0, plot=True)"
   ]
  },
  {
   "cell_type": "markdown",
   "metadata": {},
   "source": [
    "## 1. Finding solutions for required features in Jupyter environment"
   ]
  },
  {
   "cell_type": "markdown",
   "metadata": {},
   "source": [
    "This part is used to load data, process them, and get ideal result as usual in a .ipynb environment. `dfm` and `dfc` are correctly loaded movie data and character data (same as those in the class \"analyzer\")"
   ]
  },
  {
   "cell_type": "code",
   "execution_count": 4,
   "metadata": {},
   "outputs": [],
   "source": [
    "dfm=pd.read_csv(\"..\\\\data\\\\MovieSummaries\\\\movie.metadata.tsv\", \n",
    "               sep=\"\\t\", \n",
    "               names=['wikiID', 'fbID', 'movieName', 'releaseDate', 'boxRevenue', 'runtime', 'language', 'country', 'genre'])"
   ]
  },
  {
   "cell_type": "code",
   "execution_count": 5,
   "metadata": {},
   "outputs": [],
   "source": [
    "dfc=pd.read_csv(\"..\\\\data\\\\MovieSummaries\\\\character.metadata.tsv\", \n",
    "               sep=\"\\t\", \n",
    "               names=['wikiID', 'fbID', 'releaseDate', 'characterName', 'actorBirthday', 'actorGender', 'actorHeight',\n",
    "                      'actorEthnicityID','actorName', 'ageAtRelease', 'fbMapID', 'fbCharacterID','fbActorID'])"
   ]
  },
  {
   "cell_type": "code",
   "execution_count": 11,
   "metadata": {},
   "outputs": [
    {
     "data": {
      "text/html": [
       "<div>\n",
       "<style scoped>\n",
       "    .dataframe tbody tr th:only-of-type {\n",
       "        vertical-align: middle;\n",
       "    }\n",
       "\n",
       "    .dataframe tbody tr th {\n",
       "        vertical-align: top;\n",
       "    }\n",
       "\n",
       "    .dataframe thead th {\n",
       "        text-align: right;\n",
       "    }\n",
       "</style>\n",
       "<table border=\"1\" class=\"dataframe\">\n",
       "  <thead>\n",
       "    <tr style=\"text-align: right;\">\n",
       "      <th></th>\n",
       "      <th>wikiID</th>\n",
       "      <th>fbID</th>\n",
       "      <th>releaseDate</th>\n",
       "      <th>characterName</th>\n",
       "      <th>actorBirthday</th>\n",
       "      <th>actorGender</th>\n",
       "      <th>actorHeight</th>\n",
       "      <th>actorEthnicityID</th>\n",
       "      <th>actorName</th>\n",
       "      <th>ageAtRelease</th>\n",
       "      <th>fbMapID</th>\n",
       "      <th>fbCharacterID</th>\n",
       "      <th>fbActorID</th>\n",
       "    </tr>\n",
       "  </thead>\n",
       "  <tbody>\n",
       "    <tr>\n",
       "      <th>0</th>\n",
       "      <td>975900</td>\n",
       "      <td>/m/03vyhn</td>\n",
       "      <td>2001-08-24</td>\n",
       "      <td>Akooshay</td>\n",
       "      <td>1958-08-26</td>\n",
       "      <td>F</td>\n",
       "      <td>1.620</td>\n",
       "      <td>NaN</td>\n",
       "      <td>Wanda De Jesus</td>\n",
       "      <td>42.0</td>\n",
       "      <td>/m/0bgchxw</td>\n",
       "      <td>/m/0bgcj3x</td>\n",
       "      <td>/m/03wcfv7</td>\n",
       "    </tr>\n",
       "    <tr>\n",
       "      <th>1</th>\n",
       "      <td>975900</td>\n",
       "      <td>/m/03vyhn</td>\n",
       "      <td>2001-08-24</td>\n",
       "      <td>Lieutenant Melanie Ballard</td>\n",
       "      <td>1974-08-15</td>\n",
       "      <td>F</td>\n",
       "      <td>1.780</td>\n",
       "      <td>/m/044038p</td>\n",
       "      <td>Natasha Henstridge</td>\n",
       "      <td>27.0</td>\n",
       "      <td>/m/0jys3m</td>\n",
       "      <td>/m/0bgchn4</td>\n",
       "      <td>/m/0346l4</td>\n",
       "    </tr>\n",
       "    <tr>\n",
       "      <th>2</th>\n",
       "      <td>975900</td>\n",
       "      <td>/m/03vyhn</td>\n",
       "      <td>2001-08-24</td>\n",
       "      <td>Desolation Williams</td>\n",
       "      <td>1969-06-15</td>\n",
       "      <td>M</td>\n",
       "      <td>1.727</td>\n",
       "      <td>/m/0x67</td>\n",
       "      <td>Ice Cube</td>\n",
       "      <td>32.0</td>\n",
       "      <td>/m/0jys3g</td>\n",
       "      <td>/m/0bgchn_</td>\n",
       "      <td>/m/01vw26l</td>\n",
       "    </tr>\n",
       "    <tr>\n",
       "      <th>3</th>\n",
       "      <td>975900</td>\n",
       "      <td>/m/03vyhn</td>\n",
       "      <td>2001-08-24</td>\n",
       "      <td>Sgt Jericho Butler</td>\n",
       "      <td>1967-09-12</td>\n",
       "      <td>M</td>\n",
       "      <td>1.750</td>\n",
       "      <td>NaN</td>\n",
       "      <td>Jason Statham</td>\n",
       "      <td>33.0</td>\n",
       "      <td>/m/02vchl6</td>\n",
       "      <td>/m/0bgchnq</td>\n",
       "      <td>/m/034hyc</td>\n",
       "    </tr>\n",
       "    <tr>\n",
       "      <th>4</th>\n",
       "      <td>975900</td>\n",
       "      <td>/m/03vyhn</td>\n",
       "      <td>2001-08-24</td>\n",
       "      <td>Bashira Kincaid</td>\n",
       "      <td>1977-09-25</td>\n",
       "      <td>F</td>\n",
       "      <td>1.650</td>\n",
       "      <td>NaN</td>\n",
       "      <td>Clea DuVall</td>\n",
       "      <td>23.0</td>\n",
       "      <td>/m/02vbb3r</td>\n",
       "      <td>/m/0bgchp9</td>\n",
       "      <td>/m/01y9xg</td>\n",
       "    </tr>\n",
       "  </tbody>\n",
       "</table>\n",
       "</div>"
      ],
      "text/plain": [
       "   wikiID       fbID releaseDate               characterName actorBirthday  \\\n",
       "0  975900  /m/03vyhn  2001-08-24                    Akooshay    1958-08-26   \n",
       "1  975900  /m/03vyhn  2001-08-24  Lieutenant Melanie Ballard    1974-08-15   \n",
       "2  975900  /m/03vyhn  2001-08-24         Desolation Williams    1969-06-15   \n",
       "3  975900  /m/03vyhn  2001-08-24          Sgt Jericho Butler    1967-09-12   \n",
       "4  975900  /m/03vyhn  2001-08-24             Bashira Kincaid    1977-09-25   \n",
       "\n",
       "  actorGender  actorHeight actorEthnicityID           actorName  ageAtRelease  \\\n",
       "0           F        1.620              NaN      Wanda De Jesus          42.0   \n",
       "1           F        1.780       /m/044038p  Natasha Henstridge          27.0   \n",
       "2           M        1.727          /m/0x67            Ice Cube          32.0   \n",
       "3           M        1.750              NaN       Jason Statham          33.0   \n",
       "4           F        1.650              NaN         Clea DuVall          23.0   \n",
       "\n",
       "      fbMapID fbCharacterID   fbActorID  \n",
       "0  /m/0bgchxw    /m/0bgcj3x  /m/03wcfv7  \n",
       "1   /m/0jys3m    /m/0bgchn4   /m/0346l4  \n",
       "2   /m/0jys3g    /m/0bgchn_  /m/01vw26l  \n",
       "3  /m/02vchl6    /m/0bgchnq   /m/034hyc  \n",
       "4  /m/02vbb3r    /m/0bgchp9   /m/01y9xg  "
      ]
     },
     "execution_count": 11,
     "metadata": {},
     "output_type": "execute_result"
    }
   ],
   "source": [
    "dfc.head()"
   ]
  },
  {
   "cell_type": "code",
   "execution_count": 19,
   "metadata": {},
   "outputs": [
    {
     "data": {
      "text/plain": [
       "actorGender\n",
       "M    60922\n",
       "F    35720\n",
       "Name: count, dtype: int64"
      ]
     },
     "execution_count": 19,
     "metadata": {},
     "output_type": "execute_result"
    }
   ],
   "source": [
    "dfa=dfc[[\"actorName\", \"actorGender\", \"actorHeight\"]].drop_duplicates()\n",
    "dfa.drop_duplicates()['actorGender'].value_counts()"
   ]
  },
  {
   "cell_type": "code",
   "execution_count": 6,
   "metadata": {},
   "outputs": [],
   "source": [
    "df_ac=dfm[[\"wikiID\", \"movieName\"]].join(dfc['wikiID'].value_counts().astype(\"Int64\"), on=\"wikiID\")\n",
    "df_ac.rename(columns={\"count\": \"actorCounts\"}, inplace=True)"
   ]
  },
  {
   "cell_type": "code",
   "execution_count": 7,
   "metadata": {},
   "outputs": [
    {
     "data": {
      "text/plain": [
       "<Axes: xlabel='actorCounts', ylabel='Count'>"
      ]
     },
     "execution_count": 7,
     "metadata": {},
     "output_type": "execute_result"
    },
    {
     "data": {
      "image/png": "[encoded data removed]",
      "text/plain": [
       "<Figure size 640x480 with 1 Axes>"
      ]
     },
     "metadata": {},
     "output_type": "display_data"
    }
   ],
   "source": [
    "sns.histplot(data=df_ac,x=\"actorCounts\",bins=40)"
   ]
  },
  {
   "cell_type": "code",
   "execution_count": 8,
   "metadata": {},
   "outputs": [
    {
     "data": {
      "text/plain": [
       "genre\n",
       "Drama              34007\n",
       "Comedy             16349\n",
       "Romance Film       10234\n",
       "Black-and-white     9094\n",
       "Action              8798\n",
       "Thriller            8744\n",
       "Short Film          8141\n",
       "World cinema        7155\n",
       "Crime Fiction       6948\n",
       "Indie               6897\n",
       "Name: count, dtype: int64"
      ]
     },
     "execution_count": 8,
     "metadata": {},
     "output_type": "execute_result"
    }
   ],
   "source": [
    "dfm[\"genre\"].apply(lambda x: list(ast.literal_eval(x).values())).explode(ignore_index=True).value_counts()[0:10]"
   ]
  },
  {
   "cell_type": "code",
   "execution_count": 9,
   "metadata": {},
   "outputs": [
    {
     "data": {
      "text/plain": [
       "0        2001\n",
       "1        2000\n",
       "2        1988\n",
       "3        1987\n",
       "4        1983\n",
       "         ... \n",
       "81736    2011\n",
       "81737    2011\n",
       "81738    1972\n",
       "81739    1992\n",
       "81740    2002\n",
       "Name: releaseDate, Length: 81741, dtype: object"
      ]
     },
     "execution_count": 9,
     "metadata": {},
     "output_type": "execute_result"
    }
   ],
   "source": [
    "dfm.releaseDate.str[0:4]"
   ]
  },
  {
   "cell_type": "code",
   "execution_count": 10,
   "metadata": {},
   "outputs": [],
   "source": [
    "dfm.genre=dfm.genre.apply(lambda x: list(ast.literal_eval(x).values()))\n",
    "#df.language=df.language.apply(lambda x: x[0] if isinstance(x, list) and len(x) > 0 else np.nan)"
   ]
  }
 ],
 "metadata": {
  "kernelspec": {
   "display_name": "Python 3",
   "language": "python",
   "name": "python3"
  },
  "language_info": {
   "codemirror_mode": {
    "name": "ipython",
    "version": 3
   },
   "file_extension": ".py",
   "mimetype": "text/x-python",
   "name": "python",
   "nbconvert_exporter": "python",
   "pygments_lexer": "ipython3",
   "version": "3.12.5"
  }
 },
 "nbformat": 4,
 "nbformat_minor": 2
}
